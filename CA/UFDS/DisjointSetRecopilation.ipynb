{
  "nbformat": 4,
  "nbformat_minor": 0,
  "metadata": {
    "colab": {
      "name": "DisjointSetRecopilation.ipynb",
      "provenance": [],
      "authorship_tag": "ABX9TyOFYYu09f5rBtYGCJJDIuMP",
      "include_colab_link": true
    },
    "kernelspec": {
      "name": "python3",
      "display_name": "Python 3"
    },
    "language_info": {
      "name": "python"
    }
  },
  "cells": [
    {
      "cell_type": "markdown",
      "metadata": {
        "id": "view-in-github",
        "colab_type": "text"
      },
      "source": [
        "<a href=\"https://colab.research.google.com/github/NicolePT/QuarantineGame-cpp/blob/main/CA/UFDS/DisjointSetRecopilation.ipynb\" target=\"_parent\"><img src=\"https://colab.research.google.com/assets/colab-badge.svg\" alt=\"Open In Colab\"/></a>"
      ]
    },
    {
      "cell_type": "markdown",
      "metadata": {
        "id": "vZfbx6zQRuDQ"
      },
      "source": [
        "#Quick Union"
      ]
    },
    {
      "cell_type": "code",
      "metadata": {
        "id": "AO9qEndISJlf"
      },
      "source": [
        "class DisjointSetQU:\n",
        "  def __init__(self, n):\n",
        "    self.s = list(range(n))\n",
        "\n",
        "  def find(self, e):\n",
        "    if self.s[e] == e:\n",
        "      return e\n",
        "    else:\n",
        "      return self.find(self.s[e])\n",
        "\n",
        "  def union(self, a, b):\n",
        "    A = self.find(a)\n",
        "    B = self.find(b)\n",
        "    if A != B:\n",
        "      self.s[B] = A"
      ],
      "execution_count": null,
      "outputs": []
    },
    {
      "cell_type": "code",
      "metadata": {
        "colab": {
          "base_uri": "https://localhost:8080/"
        },
        "id": "nDV8yIZbScCW",
        "outputId": "08872eb6-2346-47f9-fbe3-7a192483a5e1"
      },
      "source": [
        "ds = DisjointSetQU(8)\n",
        "print(ds.s)\n",
        "print(ds.find(5))\n",
        "print(ds.find(7))"
      ],
      "execution_count": null,
      "outputs": [
        {
          "output_type": "stream",
          "name": "stdout",
          "text": [
            "[0, 1, 2, 3, 4, 5, 6, 7]\n",
            "5\n",
            "7\n"
          ]
        }
      ]
    },
    {
      "cell_type": "code",
      "metadata": {
        "colab": {
          "base_uri": "https://localhost:8080/"
        },
        "id": "ExO3E65tSpGO",
        "outputId": "726c5216-35e1-4dc7-af9b-5f87be600c79"
      },
      "source": [
        "ds.union(5, 7)\n",
        "print(ds.s)\n",
        "print(ds.find(5))\n",
        "print(ds.find(7))"
      ],
      "execution_count": null,
      "outputs": [
        {
          "output_type": "stream",
          "name": "stdout",
          "text": [
            "[0, 1, 2, 3, 4, 5, 6, 5]\n",
            "5\n",
            "5\n"
          ]
        }
      ]
    },
    {
      "cell_type": "markdown",
      "metadata": {
        "id": "6C8UQXgfRzAG"
      },
      "source": [
        "#Quick Find"
      ]
    },
    {
      "cell_type": "code",
      "metadata": {
        "id": "pOMEDdZaSkOX"
      },
      "source": [
        "class DisjointSetQF:\n",
        "  def __init__(self, n):\n",
        "    self.s = list(range(n))\n",
        "\n",
        "  def find(self, e):\n",
        "    return self.s[e]\n",
        "\n",
        "  def union(self, a, b):\n",
        "    A = self.find(a)\n",
        "    B = self.find(b)\n",
        "    if A != B:\n",
        "      for e, parent in enumerate(self.s):\n",
        "        if parent == B:\n",
        "          self.s[e] = A"
      ],
      "execution_count": null,
      "outputs": []
    },
    {
      "cell_type": "code",
      "metadata": {
        "colab": {
          "base_uri": "https://localhost:8080/"
        },
        "id": "oTO5CBlMS1M3",
        "outputId": "09206bee-20c2-4122-f818-80c4f2ae1abd"
      },
      "source": [
        "ds = DisjointSetQF(8)\n",
        "print(ds.s)\n",
        "print(ds.find(5))\n",
        "print(ds.find(7))"
      ],
      "execution_count": null,
      "outputs": [
        {
          "output_type": "stream",
          "name": "stdout",
          "text": [
            "[0, 1, 2, 3, 4, 5, 6, 7]\n",
            "5\n",
            "7\n"
          ]
        }
      ]
    },
    {
      "cell_type": "markdown",
      "metadata": {
        "id": "B3BPtVPRRzEv"
      },
      "source": [
        "#Weighted Union"
      ]
    },
    {
      "cell_type": "code",
      "metadata": {
        "id": "nLN1zoCgTKct"
      },
      "source": [
        "class DisjointSetWU:\n",
        "  def __init__(self, n):\n",
        "    self.s = [-1]*n\n",
        "\n",
        "  def find(self, e):\n",
        "    if self.s[e] < 0:\n",
        "      return e\n",
        "    else:\n",
        "      return self.find(self.s[e])\n",
        "\n",
        "  def union(self, a, b):\n",
        "    A = self.find(a)\n",
        "    B = self.find(b)\n",
        "    if A != B:\n",
        "      if abs(self.s[B]) > abs(self.s[A]):\n",
        "        self.s[B] += self.s[A]\n",
        "        self.s[A] = B\n",
        "      else:\n",
        "        self.s[A] += self.s[B]\n",
        "        self.s[B] = A"
      ],
      "execution_count": null,
      "outputs": []
    },
    {
      "cell_type": "code",
      "metadata": {
        "colab": {
          "base_uri": "https://localhost:8080/"
        },
        "id": "qpTcz__9TNEl",
        "outputId": "e0b239f8-23b4-4a9b-d06c-942e93c1f5fd"
      },
      "source": [
        "ds = DisjointSetWU(8)\n",
        "print(ds.s)\n",
        "print(ds.find(5))\n",
        "print(ds.find(7))"
      ],
      "execution_count": null,
      "outputs": [
        {
          "output_type": "stream",
          "name": "stdout",
          "text": [
            "[-1, -1, -1, -1, -1, -1, -1, -1]\n",
            "5\n",
            "7\n"
          ]
        }
      ]
    },
    {
      "cell_type": "code",
      "metadata": {
        "colab": {
          "base_uri": "https://localhost:8080/"
        },
        "id": "t1JLhldETWTO",
        "outputId": "7f4733dd-99ea-4110-9f1d-d6055f8731fa"
      },
      "source": [
        "ds.union(5, 7)\n",
        "print(ds.s)\n",
        "print(ds.find(5))\n",
        "print(ds.find(7))"
      ],
      "execution_count": null,
      "outputs": [
        {
          "output_type": "stream",
          "name": "stdout",
          "text": [
            "[-1, -1, -1, -1, -1, -2, -1, 5]\n",
            "5\n",
            "5\n"
          ]
        }
      ]
    },
    {
      "cell_type": "markdown",
      "metadata": {
        "id": "Vzn__RGpRzSP"
      },
      "source": [
        "#Path Compression"
      ]
    },
    {
      "cell_type": "code",
      "metadata": {
        "id": "98bG4uowRyUe"
      },
      "source": [
        "class DisjointSetPC:\n",
        "  def __init__(self, n):\n",
        "    self.s = [-1]*n\n",
        "\n",
        "  def find(self, e):\n",
        "    if self.s[e] < 0:\n",
        "      return e\n",
        "    else:\n",
        "      ancestor = self.find(self.s[e])\n",
        "      self.s[e] = ancestor\n",
        "      return ancestor\n",
        "\n",
        "  def union(self, a, b):\n",
        "    A = self.find(a)\n",
        "    B = self.find(b)\n",
        "    if A != B:\n",
        "      if abs(self.s[B]) > abs(self.s[A]):\n",
        "        self.s[B] += self.s[A]\n",
        "        self.s[A] = B\n",
        "      else:\n",
        "        self.s[A] += self.s[B]\n",
        "        self.s[B] = A"
      ],
      "execution_count": null,
      "outputs": []
    },
    {
      "cell_type": "code",
      "metadata": {
        "colab": {
          "base_uri": "https://localhost:8080/"
        },
        "id": "FbDbV0nATe_r",
        "outputId": "8360c7d6-dc6c-412b-ab9c-f89a50c2791a"
      },
      "source": [
        "ds = DisjointSetPC(8)\n",
        "print(ds.s)\n",
        "print(ds.find(5))\n",
        "print(ds.find(7))"
      ],
      "execution_count": null,
      "outputs": [
        {
          "output_type": "stream",
          "name": "stdout",
          "text": [
            "[-1, -1, -1, -1, -1, -1, -1, -1]\n",
            "5\n",
            "7\n"
          ]
        }
      ]
    },
    {
      "cell_type": "code",
      "metadata": {
        "id": "NV5S9pM7TwC6"
      },
      "source": [
        ""
      ],
      "execution_count": null,
      "outputs": []
    }
  ]
}