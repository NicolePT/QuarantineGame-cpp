{
  "nbformat": 4,
  "nbformat_minor": 0,
  "metadata": {
    "colab": {
      "name": "Algoritmo_Prim-Price.ipynb",
      "private_outputs": true,
      "provenance": [],
      "collapsed_sections": [],
      "include_colab_link": true
    },
    "kernelspec": {
      "name": "python3",
      "display_name": "Python 3"
    },
    "language_info": {
      "name": "python"
    }
  },
  "cells": [
    {
      "cell_type": "markdown",
      "metadata": {
        "id": "view-in-github",
        "colab_type": "text"
      },
      "source": [
        "<a href=\"https://colab.research.google.com/github/NicolePT/QuarantineGame-cpp/blob/main/HITO%204/Avances%202%20Algoritmos/Algoritmo_Prim_Price.ipynb\" target=\"_parent\"><img src=\"https://colab.research.google.com/assets/colab-badge.svg\" alt=\"Open In Colab\"/></a>"
      ]
    },
    {
      "cell_type": "markdown",
      "metadata": {
        "id": "f38YsPS-I50a"
      },
      "source": [
        "Se obtiene las posiciones de los **warehouse points** y de los **delivery points**"
      ]
    },
    {
      "cell_type": "code",
      "metadata": {
        "id": "nsosVs5e090a"
      },
      "source": [
        "import graphviz as gv\n",
        "import numpy as np\n",
        "import pandas as pd\n",
        "import heapq as hq\n",
        "import time\n",
        "import math\n",
        "\n",
        "url = \"https://raw.githubusercontent.com/JorgeLMF/cc42_tf_202014828_201915747_201921559_201811355_201714378/main/DATASET/almacenesXyY.csv\"\n",
        "url2 = \"https://raw.githubusercontent.com/JorgeLMF/cc42_tf_202014828_201915747_201921559_201811355_201714378/main/DATASET/puntosentregaXyY.csv\"\n",
        "file_almacenes = pd.read_csv(url).to_numpy()\n",
        "pts_entrega = pd.read_csv(url2).to_numpy()\n",
        "\n",
        "\n",
        "warehouse_points=[]\n",
        "for line in file_almacenes:\n",
        "  warehouse_points.append((int(line[0]),int(line[1])))\n",
        "\n",
        "delivery_points=[]\n",
        "for line in pts_entrega:\n",
        "  delivery_points.append((int(line[0]),int(line[1])))\n",
        "\n",
        "manhattan = lambda a,b: abs(a[0]-b[0])+abs(a[1]-b[1])"
      ],
      "execution_count": null,
      "outputs": []
    },
    {
      "cell_type": "code",
      "metadata": {
        "id": "fGkWeIJJ9J-2"
      },
      "source": [
        "\n",
        "def clusters(warehouse_points, delivery_points): # La funcion clusters pone los puntos de entrega al punto de almacenes más cercano  \n",
        "\n",
        "  cl = []\n",
        "  for i in range(len(warehouse_points)):\n",
        "    cl.append([])\n",
        "\n",
        "  for j in range(len(delivery_points)):\n",
        "    d = delivery_points[j]\n",
        "    mn = math.inf\n",
        "    idmn = 0\n",
        "    for i in range(len(warehouse_points)):\n",
        "      w = warehouse_points[i]\n",
        "      dis = manhattan(d,w) #se obtiene la distancia de cada warehouse_points hacia las los delivery_points\n",
        "      if(dis < mn):\n",
        "        mn = dis\n",
        "        idmn = i\n",
        "    \n",
        "    cl[idmn].append(d)\n",
        "  \n",
        "  return cl\n",
        "\n"
      ],
      "execution_count": null,
      "outputs": []
    },
    {
      "cell_type": "code",
      "metadata": {
        "id": "jjJ7Ytl6__wi"
      },
      "source": [
        "cl = clusters(warehouse_points, delivery_points)"
      ],
      "execution_count": null,
      "outputs": []
    },
    {
      "cell_type": "code",
      "metadata": {
        "id": "T0iLri4JABrb"
      },
      "source": [
        "cl[0] ##muestra los deliverypoints agrupados para el warehouse [0]"
      ],
      "execution_count": null,
      "outputs": []
    },
    {
      "cell_type": "code",
      "metadata": {
        "id": "v4FhqGCDInPz"
      },
      "source": [
        "def prim(G):\n",
        "  n = len(G)\n",
        "  visited = [False]*n\n",
        "  path = [-1]*n\n",
        "  cost = [math.inf]*n\n",
        "  q = [(0, n-1)]\n",
        "  while q:\n",
        "    _, u = hq.heappop(q)\n",
        "    if not visited[u]:\n",
        "      visited[u] = True\n",
        "      for v,_, w in G[u]:\n",
        "        if not visited[v] and w < cost[v]:\n",
        "          cost[v] = w\n",
        "          path[v] = u\n",
        "          hq.heappush(q, (w, v))\n",
        "  return path, cost"
      ],
      "execution_count": null,
      "outputs": []
    },
    {
      "cell_type": "code",
      "metadata": {
        "id": "-VyReXsndgEE"
      },
      "source": [
        "def create_graph_by_warehousepoint(indexwh,group): \n",
        "  '''\n",
        "  Esta funcion crea el grafo con la lista de relaciones que se le va a dar como parámetro. En este caso, lo que retorna clusters().\n",
        "  Con esto, vamos a crear un grafo y para evitar que sea muy denso, solo cada nodo va a tener un arco con los nodos que tengan las 5 menores distancias,\n",
        "  con respecto a ese nodo.\n",
        "  '''\n",
        "  n=len(group)+1\n",
        "  G=[[] for _ in range(n)]\n",
        "  l=[]\n",
        "\n",
        "  whp=warehouse_points[indexwh]\n",
        "  idwhp=n-1\n",
        "  v=[] ##esta lista sirve para obtener las 20 menores cantidades que forman un nodo, con los otros.\n",
        "  for j,dp1 in enumerate(group):\n",
        "    for k,dp2 in enumerate(group):\n",
        "      if j==k: continue\n",
        "      ##obtenemos las distancias para cada combinacion\n",
        "      distance1=manhattan(dp1,dp2)\n",
        "      distance2=manhattan(whp,dp2)\n",
        "      distance3=manhattan(whp,dp1)\n",
        "\n",
        "      l.append((j,dp1,k,dp2,distance1))\n",
        "      l.append((idwhp,whp,k,dp2,distance2))\n",
        "      l.append((j,dp1,idwhp,whp,distance3))     \n",
        "      \n",
        "      v.append(distance1)\n",
        "      v.append(distance2)\n",
        "      v.append(distance3)\n",
        "  v=list(set(v))\n",
        "  v=v[:80] ##max unido con nodos de 20 diferentes valores\n",
        "  '''\n",
        "  La intención que se realiza en v es la siguiente:\n",
        "  Por ejemplo:\n",
        "    En un caso se obtiene que v=[0,0,1,2,3,3,7,7,8,9]\n",
        "    Solo queremos los 5 menores distancias. Por ello, se realiza:\n",
        "                                                    v=list(set(v))\n",
        "                                                    v=v[:5]\n",
        "  Con esto, no necesariamte cada nodo va a estar relacionado con solo 5 nodos, pues puede haber 3 nodos que coincidan en distancia con el \n",
        "  nodo escogido.                                                    \n",
        "  '''\n",
        "\n",
        "  for idp1,p1,idp2,p2,distance in l:\n",
        "    if distance in v and (idp2,p2,distance) not in G[idp1]:\n",
        "      G[idp1].append((idp2,p2,distance))\n",
        "      G[idp2].append((idp1,p1,distance))\n",
        "      #G[p1].append((p2,distance))\n",
        "      #G[p2].append((p1,distance))\n",
        "  return G\n",
        "  "
      ],
      "execution_count": null,
      "outputs": []
    },
    {
      "cell_type": "code",
      "metadata": {
        "id": "D045_Brmk-NU"
      },
      "source": [
        "a=[0,1,2,2,2,3,4,6,7]\n",
        "a=list(set(a))\n",
        "a=a[:4]\n",
        "print(a)"
      ],
      "execution_count": null,
      "outputs": []
    },
    {
      "cell_type": "code",
      "metadata": {
        "id": "BtbBUOvtI2Xv"
      },
      "source": [
        "def main():\n",
        "  cl = clusters(warehouse_points, delivery_points)\n",
        "  G_total=[[] for _ in range(len(cl))]\n",
        "  for i,group in enumerate(cl):\n",
        "    G=create_graph_by_warehousepoint(i,group)\n",
        "    path,cost=prim(G)\n",
        "    G_total[i].append(path)\n",
        "    G_total[i].append(cost) ##van a estar almacenados en orden del warehousepoint que es el mismo de clusters\n",
        "\n",
        "  return G_total\n"
      ],
      "execution_count": null,
      "outputs": []
    },
    {
      "cell_type": "code",
      "metadata": {
        "id": "I0XushM5oQo8"
      },
      "source": [
        "np.matrix(main())"
      ],
      "execution_count": null,
      "outputs": []
    },
    {
      "cell_type": "code",
      "metadata": {
        "id": "j9qCrQifoXVK"
      },
      "source": [
        ""
      ],
      "execution_count": null,
      "outputs": []
    }
  ]
}